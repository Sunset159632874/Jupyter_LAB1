{
 "cells": [
  {
   "cell_type": "code",
   "execution_count": 4,
   "id": "8d2d1ac8",
   "metadata": {},
   "outputs": [],
   "source": [
    "import pandas as pd"
   ]
  },
  {
   "cell_type": "code",
   "execution_count": 5,
   "id": "69d20455",
   "metadata": {},
   "outputs": [],
   "source": [
    "df = pd.read_csv('9visits.csv')"
   ]
  },
  {
   "cell_type": "markdown",
   "id": "1aba0fc8",
   "metadata": {},
   "source": [
    "Вывод первых 20 строк датафрейма. Датасет содержит информацию о посещении магазина разными пользователями. В датасете представлена информация с какого устройства был выполнен вход на сайт, время, проведенное на сайте и источник, откуда был выполнен переход на сайт. "
   ]
  },
  {
   "cell_type": "code",
   "execution_count": 6,
   "id": "09902752",
   "metadata": {},
   "outputs": [
    {
     "data": {
      "text/html": [
       "<div>\n",
       "<style scoped>\n",
       "    .dataframe tbody tr th:only-of-type {\n",
       "        vertical-align: middle;\n",
       "    }\n",
       "\n",
       "    .dataframe tbody tr th {\n",
       "        vertical-align: top;\n",
       "    }\n",
       "\n",
       "    .dataframe thead th {\n",
       "        text-align: right;\n",
       "    }\n",
       "</style>\n",
       "<table border=\"1\" class=\"dataframe\">\n",
       "  <thead>\n",
       "    <tr style=\"text-align: right;\">\n",
       "      <th></th>\n",
       "      <th>User Id</th>\n",
       "      <th>Region</th>\n",
       "      <th>Device</th>\n",
       "      <th>Channel</th>\n",
       "      <th>Session Start</th>\n",
       "      <th>Session End</th>\n",
       "    </tr>\n",
       "  </thead>\n",
       "  <tbody>\n",
       "    <tr>\n",
       "      <th>0</th>\n",
       "      <td>981449118918</td>\n",
       "      <td>United States</td>\n",
       "      <td>iPhone</td>\n",
       "      <td>organic</td>\n",
       "      <td>2019-05-01 02:36:01</td>\n",
       "      <td>2019-05-01 02:45:01</td>\n",
       "    </tr>\n",
       "    <tr>\n",
       "      <th>1</th>\n",
       "      <td>278965908054</td>\n",
       "      <td>United States</td>\n",
       "      <td>iPhone</td>\n",
       "      <td>organic</td>\n",
       "      <td>2019-05-01 04:46:31</td>\n",
       "      <td>2019-05-01 04:47:35</td>\n",
       "    </tr>\n",
       "    <tr>\n",
       "      <th>2</th>\n",
       "      <td>590706206550</td>\n",
       "      <td>United States</td>\n",
       "      <td>Mac</td>\n",
       "      <td>organic</td>\n",
       "      <td>2019-05-01 14:09:25</td>\n",
       "      <td>2019-05-01 15:32:08</td>\n",
       "    </tr>\n",
       "    <tr>\n",
       "      <th>3</th>\n",
       "      <td>326433527971</td>\n",
       "      <td>United States</td>\n",
       "      <td>Android</td>\n",
       "      <td>TipTop</td>\n",
       "      <td>2019-05-01 00:29:59</td>\n",
       "      <td>2019-05-01 00:54:25</td>\n",
       "    </tr>\n",
       "    <tr>\n",
       "      <th>4</th>\n",
       "      <td>349773784594</td>\n",
       "      <td>United States</td>\n",
       "      <td>Mac</td>\n",
       "      <td>organic</td>\n",
       "      <td>2019-05-01 03:33:35</td>\n",
       "      <td>2019-05-01 03:57:40</td>\n",
       "    </tr>\n",
       "    <tr>\n",
       "      <th>5</th>\n",
       "      <td>90242400005</td>\n",
       "      <td>United States</td>\n",
       "      <td>iPhone</td>\n",
       "      <td>RocketSuperAds</td>\n",
       "      <td>2019-05-01 07:14:52</td>\n",
       "      <td>2019-05-01 08:19:56</td>\n",
       "    </tr>\n",
       "    <tr>\n",
       "      <th>6</th>\n",
       "      <td>43958116050</td>\n",
       "      <td>United States</td>\n",
       "      <td>Android</td>\n",
       "      <td>organic</td>\n",
       "      <td>2019-05-01 09:03:21</td>\n",
       "      <td>2019-05-01 10:08:39</td>\n",
       "    </tr>\n",
       "    <tr>\n",
       "      <th>7</th>\n",
       "      <td>185365244969</td>\n",
       "      <td>United States</td>\n",
       "      <td>iPhone</td>\n",
       "      <td>organic</td>\n",
       "      <td>2019-05-01 09:37:03</td>\n",
       "      <td>2019-05-01 10:00:43</td>\n",
       "    </tr>\n",
       "    <tr>\n",
       "      <th>8</th>\n",
       "      <td>446013509831</td>\n",
       "      <td>United States</td>\n",
       "      <td>iPhone</td>\n",
       "      <td>RocketSuperAds</td>\n",
       "      <td>2019-05-01 10:26:00</td>\n",
       "      <td>2019-05-01 10:59:17</td>\n",
       "    </tr>\n",
       "    <tr>\n",
       "      <th>9</th>\n",
       "      <td>100970711362</td>\n",
       "      <td>United States</td>\n",
       "      <td>Mac</td>\n",
       "      <td>TipTop</td>\n",
       "      <td>2019-05-01 04:39:53</td>\n",
       "      <td>2019-05-01 04:57:05</td>\n",
       "    </tr>\n",
       "    <tr>\n",
       "      <th>10</th>\n",
       "      <td>589320347244</td>\n",
       "      <td>United States</td>\n",
       "      <td>Mac</td>\n",
       "      <td>YRabbit</td>\n",
       "      <td>2019-05-01 18:39:23</td>\n",
       "      <td>2019-05-01 20:03:15</td>\n",
       "    </tr>\n",
       "    <tr>\n",
       "      <th>11</th>\n",
       "      <td>370455852550</td>\n",
       "      <td>United States</td>\n",
       "      <td>iPhone</td>\n",
       "      <td>organic</td>\n",
       "      <td>2019-05-01 14:44:30</td>\n",
       "      <td>2019-05-01 15:41:24</td>\n",
       "    </tr>\n",
       "    <tr>\n",
       "      <th>12</th>\n",
       "      <td>141837741427</td>\n",
       "      <td>United States</td>\n",
       "      <td>Mac</td>\n",
       "      <td>FaceBoom</td>\n",
       "      <td>2019-05-01 06:20:48</td>\n",
       "      <td>2019-05-01 06:54:33</td>\n",
       "    </tr>\n",
       "    <tr>\n",
       "      <th>13</th>\n",
       "      <td>924308873083</td>\n",
       "      <td>United States</td>\n",
       "      <td>iPhone</td>\n",
       "      <td>organic</td>\n",
       "      <td>2019-05-01 20:03:52</td>\n",
       "      <td>2019-05-01 20:19:34</td>\n",
       "    </tr>\n",
       "    <tr>\n",
       "      <th>14</th>\n",
       "      <td>774938424092</td>\n",
       "      <td>United States</td>\n",
       "      <td>iPhone</td>\n",
       "      <td>MediaTornado</td>\n",
       "      <td>2019-05-01 14:01:40</td>\n",
       "      <td>2019-05-01 14:29:24</td>\n",
       "    </tr>\n",
       "    <tr>\n",
       "      <th>15</th>\n",
       "      <td>244878945432</td>\n",
       "      <td>United States</td>\n",
       "      <td>iPhone</td>\n",
       "      <td>MediaTornado</td>\n",
       "      <td>2019-05-01 01:59:41</td>\n",
       "      <td>2019-05-01 02:21:50</td>\n",
       "    </tr>\n",
       "    <tr>\n",
       "      <th>16</th>\n",
       "      <td>157877034671</td>\n",
       "      <td>United States</td>\n",
       "      <td>Mac</td>\n",
       "      <td>organic</td>\n",
       "      <td>2019-05-01 10:25:16</td>\n",
       "      <td>2019-05-01 10:35:03</td>\n",
       "    </tr>\n",
       "    <tr>\n",
       "      <th>17</th>\n",
       "      <td>321335574694</td>\n",
       "      <td>United States</td>\n",
       "      <td>iPhone</td>\n",
       "      <td>YRabbit</td>\n",
       "      <td>2019-05-01 09:49:32</td>\n",
       "      <td>2019-05-01 10:10:02</td>\n",
       "    </tr>\n",
       "    <tr>\n",
       "      <th>18</th>\n",
       "      <td>524629398969</td>\n",
       "      <td>United States</td>\n",
       "      <td>Mac</td>\n",
       "      <td>organic</td>\n",
       "      <td>2019-05-01 17:06:46</td>\n",
       "      <td>2019-05-01 18:05:31</td>\n",
       "    </tr>\n",
       "    <tr>\n",
       "      <th>19</th>\n",
       "      <td>136226778935</td>\n",
       "      <td>United States</td>\n",
       "      <td>PC</td>\n",
       "      <td>organic</td>\n",
       "      <td>2019-05-01 19:34:45</td>\n",
       "      <td>2019-05-01 19:39:24</td>\n",
       "    </tr>\n",
       "  </tbody>\n",
       "</table>\n",
       "</div>"
      ],
      "text/plain": [
       "         User Id         Region   Device         Channel        Session Start  \\\n",
       "0   981449118918  United States   iPhone         organic  2019-05-01 02:36:01   \n",
       "1   278965908054  United States   iPhone         organic  2019-05-01 04:46:31   \n",
       "2   590706206550  United States      Mac         organic  2019-05-01 14:09:25   \n",
       "3   326433527971  United States  Android          TipTop  2019-05-01 00:29:59   \n",
       "4   349773784594  United States      Mac         organic  2019-05-01 03:33:35   \n",
       "5    90242400005  United States   iPhone  RocketSuperAds  2019-05-01 07:14:52   \n",
       "6    43958116050  United States  Android         organic  2019-05-01 09:03:21   \n",
       "7   185365244969  United States   iPhone         organic  2019-05-01 09:37:03   \n",
       "8   446013509831  United States   iPhone  RocketSuperAds  2019-05-01 10:26:00   \n",
       "9   100970711362  United States      Mac          TipTop  2019-05-01 04:39:53   \n",
       "10  589320347244  United States      Mac         YRabbit  2019-05-01 18:39:23   \n",
       "11  370455852550  United States   iPhone         organic  2019-05-01 14:44:30   \n",
       "12  141837741427  United States      Mac        FaceBoom  2019-05-01 06:20:48   \n",
       "13  924308873083  United States   iPhone         organic  2019-05-01 20:03:52   \n",
       "14  774938424092  United States   iPhone    MediaTornado  2019-05-01 14:01:40   \n",
       "15  244878945432  United States   iPhone    MediaTornado  2019-05-01 01:59:41   \n",
       "16  157877034671  United States      Mac         organic  2019-05-01 10:25:16   \n",
       "17  321335574694  United States   iPhone         YRabbit  2019-05-01 09:49:32   \n",
       "18  524629398969  United States      Mac         organic  2019-05-01 17:06:46   \n",
       "19  136226778935  United States       PC         organic  2019-05-01 19:34:45   \n",
       "\n",
       "            Session End  \n",
       "0   2019-05-01 02:45:01  \n",
       "1   2019-05-01 04:47:35  \n",
       "2   2019-05-01 15:32:08  \n",
       "3   2019-05-01 00:54:25  \n",
       "4   2019-05-01 03:57:40  \n",
       "5   2019-05-01 08:19:56  \n",
       "6   2019-05-01 10:08:39  \n",
       "7   2019-05-01 10:00:43  \n",
       "8   2019-05-01 10:59:17  \n",
       "9   2019-05-01 04:57:05  \n",
       "10  2019-05-01 20:03:15  \n",
       "11  2019-05-01 15:41:24  \n",
       "12  2019-05-01 06:54:33  \n",
       "13  2019-05-01 20:19:34  \n",
       "14  2019-05-01 14:29:24  \n",
       "15  2019-05-01 02:21:50  \n",
       "16  2019-05-01 10:35:03  \n",
       "17  2019-05-01 10:10:02  \n",
       "18  2019-05-01 18:05:31  \n",
       "19  2019-05-01 19:39:24  "
      ]
     },
     "execution_count": 6,
     "metadata": {},
     "output_type": "execute_result"
    }
   ],
   "source": [
    "df.head(20)"
   ]
  },
  {
   "cell_type": "markdown",
   "id": "34d377a6",
   "metadata": {},
   "source": [
    "Оценка данных. Датасет имеет шесть столбцов, 309901 значение, один столбец имеет тип int, другие object. "
   ]
  },
  {
   "cell_type": "code",
   "execution_count": 7,
   "id": "48f39228",
   "metadata": {},
   "outputs": [
    {
     "name": "stdout",
     "output_type": "stream",
     "text": [
      "<class 'pandas.core.frame.DataFrame'>\n",
      "RangeIndex: 309901 entries, 0 to 309900\n",
      "Data columns (total 6 columns):\n",
      " #   Column         Non-Null Count   Dtype \n",
      "---  ------         --------------   ----- \n",
      " 0   User Id        309901 non-null  int64 \n",
      " 1   Region         309901 non-null  object\n",
      " 2   Device         309901 non-null  object\n",
      " 3   Channel        309901 non-null  object\n",
      " 4   Session Start  309901 non-null  object\n",
      " 5   Session End    309901 non-null  object\n",
      "dtypes: int64(1), object(5)\n",
      "memory usage: 14.2+ MB\n"
     ]
    }
   ],
   "source": [
    "df.info()"
   ]
  },
  {
   "cell_type": "markdown",
   "id": "45c2ef87",
   "metadata": {},
   "source": [
    "Вывод названий столбцов"
   ]
  },
  {
   "cell_type": "code",
   "execution_count": 8,
   "id": "9f614197",
   "metadata": {},
   "outputs": [
    {
     "data": {
      "text/plain": [
       "Index(['User Id', 'Region', 'Device', 'Channel', 'Session Start',\n",
       "       'Session End'],\n",
       "      dtype='object')"
      ]
     },
     "execution_count": 8,
     "metadata": {},
     "output_type": "execute_result"
    }
   ],
   "source": [
    "df.columns"
   ]
  },
  {
   "cell_type": "markdown",
   "id": "07c077da",
   "metadata": {},
   "source": [
    "Удаление пробелов между словами и приведение к нижнему регистру"
   ]
  },
  {
   "cell_type": "code",
   "execution_count": 9,
   "id": "aefd7267",
   "metadata": {},
   "outputs": [],
   "source": [
    "df=df.rename(columns={'User Id' : 'User_Id'})"
   ]
  },
  {
   "cell_type": "code",
   "execution_count": 10,
   "id": "a883ec2a",
   "metadata": {},
   "outputs": [],
   "source": [
    "df=df.rename(columns={'Session Start' : 'Session_Start'})"
   ]
  },
  {
   "cell_type": "code",
   "execution_count": 11,
   "id": "6acc1e42",
   "metadata": {},
   "outputs": [],
   "source": [
    "df=df.rename(columns={'Session End' : 'Session_End'})"
   ]
  },
  {
   "cell_type": "code",
   "execution_count": 12,
   "id": "be5dd4d8",
   "metadata": {},
   "outputs": [],
   "source": [
    "df.columns = df.columns.str.lower()"
   ]
  },
  {
   "cell_type": "markdown",
   "id": "9c55c443",
   "metadata": {},
   "source": [
    "Проверка на пропуски"
   ]
  },
  {
   "cell_type": "markdown",
   "id": "fae7ed28",
   "metadata": {},
   "source": [
    "df.isna().sum()"
   ]
  },
  {
   "cell_type": "code",
   "execution_count": null,
   "id": "6242645f",
   "metadata": {},
   "outputs": [],
   "source": [
    "Проверка на явные дубликаты"
   ]
  },
  {
   "cell_type": "code",
   "execution_count": 15,
   "id": "15fdf15e",
   "metadata": {},
   "outputs": [
    {
     "data": {
      "text/plain": [
       "0"
      ]
     },
     "execution_count": 15,
     "metadata": {},
     "output_type": "execute_result"
    }
   ],
   "source": [
    "df.duplicated().sum()"
   ]
  },
  {
   "cell_type": "markdown",
   "id": "2368217d",
   "metadata": {},
   "source": [
    "проверка на неявные дубликаты"
   ]
  },
  {
   "cell_type": "code",
   "execution_count": 22,
   "id": "a8d29033",
   "metadata": {},
   "outputs": [
    {
     "data": {
      "text/plain": [
       "array(['2019-05-01T02:45:01.000000000', '2019-05-01T04:47:35.000000000',\n",
       "       '2019-05-01T15:32:08.000000000', ...,\n",
       "       '2019-10-31T01:41:31.000000000', '2019-10-31T07:37:55.000000000',\n",
       "       '2019-10-31T15:17:04.000000000'], dtype='datetime64[ns]')"
      ]
     },
     "execution_count": 22,
     "metadata": {},
     "output_type": "execute_result"
    }
   ],
   "source": [
    "df['session_end'].unique()"
   ]
  },
  {
   "cell_type": "markdown",
   "id": "21ddaa56",
   "metadata": {},
   "source": [
    "данные самого позднего перехода на сайт магазина в каждом из регионов"
   ]
  },
  {
   "cell_type": "code",
   "execution_count": 30,
   "id": "6f32e44b",
   "metadata": {},
   "outputs": [
    {
     "data": {
      "text/html": [
       "<div>\n",
       "<style scoped>\n",
       "    .dataframe tbody tr th:only-of-type {\n",
       "        vertical-align: middle;\n",
       "    }\n",
       "\n",
       "    .dataframe tbody tr th {\n",
       "        vertical-align: top;\n",
       "    }\n",
       "\n",
       "    .dataframe thead th {\n",
       "        text-align: right;\n",
       "    }\n",
       "</style>\n",
       "<table border=\"1\" class=\"dataframe\">\n",
       "  <thead>\n",
       "    <tr style=\"text-align: right;\">\n",
       "      <th></th>\n",
       "      <th>session_start</th>\n",
       "    </tr>\n",
       "    <tr>\n",
       "      <th>region</th>\n",
       "      <th></th>\n",
       "    </tr>\n",
       "  </thead>\n",
       "  <tbody>\n",
       "    <tr>\n",
       "      <th>France</th>\n",
       "      <td>2019-10-31 23:43:07</td>\n",
       "    </tr>\n",
       "    <tr>\n",
       "      <th>Germany</th>\n",
       "      <td>2019-10-31 23:31:53</td>\n",
       "    </tr>\n",
       "    <tr>\n",
       "      <th>UK</th>\n",
       "      <td>2019-10-31 23:58:28</td>\n",
       "    </tr>\n",
       "    <tr>\n",
       "      <th>United States</th>\n",
       "      <td>2019-10-31 23:59:23</td>\n",
       "    </tr>\n",
       "  </tbody>\n",
       "</table>\n",
       "</div>"
      ],
      "text/plain": [
       "                    session_start\n",
       "region                           \n",
       "France        2019-10-31 23:43:07\n",
       "Germany       2019-10-31 23:31:53\n",
       "UK            2019-10-31 23:58:28\n",
       "United States 2019-10-31 23:59:23"
      ]
     },
     "execution_count": 30,
     "metadata": {},
     "output_type": "execute_result"
    }
   ],
   "source": [
    "df_pivot=df.pivot_table(df,index=['region'], aggfunc = {'session_start': 'max'})\n",
    "df_pivot"
   ]
  },
  {
   "cell_type": "markdown",
   "id": "981ed5cb",
   "metadata": {},
   "source": [
    "количество владельцев различных видов гаджетов"
   ]
  },
  {
   "cell_type": "code",
   "execution_count": 29,
   "id": "44a20847",
   "metadata": {},
   "outputs": [
    {
     "data": {
      "text/html": [
       "<div>\n",
       "<style scoped>\n",
       "    .dataframe tbody tr th:only-of-type {\n",
       "        vertical-align: middle;\n",
       "    }\n",
       "\n",
       "    .dataframe tbody tr th {\n",
       "        vertical-align: top;\n",
       "    }\n",
       "\n",
       "    .dataframe thead th {\n",
       "        text-align: right;\n",
       "    }\n",
       "</style>\n",
       "<table border=\"1\" class=\"dataframe\">\n",
       "  <thead>\n",
       "    <tr style=\"text-align: right;\">\n",
       "      <th></th>\n",
       "      <th>user_id</th>\n",
       "    </tr>\n",
       "    <tr>\n",
       "      <th>device</th>\n",
       "      <th></th>\n",
       "    </tr>\n",
       "  </thead>\n",
       "  <tbody>\n",
       "    <tr>\n",
       "      <th>Android</th>\n",
       "      <td>72590</td>\n",
       "    </tr>\n",
       "    <tr>\n",
       "      <th>Mac</th>\n",
       "      <td>62022</td>\n",
       "    </tr>\n",
       "    <tr>\n",
       "      <th>PC</th>\n",
       "      <td>62686</td>\n",
       "    </tr>\n",
       "    <tr>\n",
       "      <th>iPhone</th>\n",
       "      <td>112603</td>\n",
       "    </tr>\n",
       "  </tbody>\n",
       "</table>\n",
       "</div>"
      ],
      "text/plain": [
       "         user_id\n",
       "device          \n",
       "Android    72590\n",
       "Mac        62022\n",
       "PC         62686\n",
       "iPhone    112603"
      ]
     },
     "execution_count": 29,
     "metadata": {},
     "output_type": "execute_result"
    }
   ],
   "source": [
    "df_pivot=df.pivot_table(df,index=['device'], aggfunc = {'user_id': 'count'})\n",
    "df_pivot"
   ]
  },
  {
   "cell_type": "markdown",
   "id": "f0dae1e2",
   "metadata": {},
   "source": [
    "группировка, которая демонстрирует количество пользователей, перешедших на сайт с различных источников"
   ]
  },
  {
   "cell_type": "code",
   "execution_count": 31,
   "id": "576fdb46",
   "metadata": {},
   "outputs": [
    {
     "data": {
      "text/plain": [
       "channel\n",
       "AdNonSense              6891\n",
       "FaceBoom               49022\n",
       "LeapBob                17013\n",
       "MediaTornado            8878\n",
       "OppleCreativeMedia     16794\n",
       "RocketSuperAds         12724\n",
       "TipTop                 54794\n",
       "WahooNetBanner         20465\n",
       "YRabbit                 9053\n",
       "lambdaMediaAds          6507\n",
       "organic               107760\n",
       "Name: user_id, dtype: int64"
      ]
     },
     "execution_count": 31,
     "metadata": {},
     "output_type": "execute_result"
    }
   ],
   "source": [
    "df_group = df.groupby('channel')['user_id'].count()\n",
    "df_group"
   ]
  },
  {
   "cell_type": "code",
   "execution_count": 20,
   "id": "05b1b1c4",
   "metadata": {},
   "outputs": [
    {
     "data": {
      "text/plain": [
       "array(['iPhone', 'Mac', 'Android', 'PC'], dtype=object)"
      ]
     },
     "execution_count": 20,
     "metadata": {},
     "output_type": "execute_result"
    }
   ],
   "source": [
    "df['device'].unique()\n"
   ]
  },
  {
   "cell_type": "code",
   "execution_count": 23,
   "id": "a4072c03",
   "metadata": {},
   "outputs": [
    {
     "data": {
      "text/plain": [
       "array(['United States', 'UK', 'France', 'Germany'], dtype=object)"
      ]
     },
     "execution_count": 23,
     "metadata": {},
     "output_type": "execute_result"
    }
   ],
   "source": [
    "df['region'].unique()"
   ]
  },
  {
   "cell_type": "code",
   "execution_count": 24,
   "id": "beb00620",
   "metadata": {},
   "outputs": [
    {
     "data": {
      "text/plain": [
       "array(['organic', 'TipTop', 'RocketSuperAds', 'YRabbit', 'FaceBoom',\n",
       "       'MediaTornado', 'AdNonSense', 'LeapBob', 'WahooNetBanner',\n",
       "       'OppleCreativeMedia', 'lambdaMediaAds'], dtype=object)"
      ]
     },
     "execution_count": 24,
     "metadata": {},
     "output_type": "execute_result"
    }
   ],
   "source": [
    "df['channel'].unique()"
   ]
  },
  {
   "cell_type": "code",
   "execution_count": 25,
   "id": "3dbe1098",
   "metadata": {},
   "outputs": [
    {
     "data": {
      "text/plain": [
       "array([981449118918, 278965908054, 590706206550, ..., 519022174024,\n",
       "       354394066496, 279181973476], dtype=int64)"
      ]
     },
     "execution_count": 25,
     "metadata": {},
     "output_type": "execute_result"
    }
   ],
   "source": [
    "df['user_id'].unique()"
   ]
  },
  {
   "cell_type": "markdown",
   "id": "18271e81",
   "metadata": {},
   "source": [
    "Замена типа данных"
   ]
  },
  {
   "cell_type": "code",
   "execution_count": 27,
   "id": "3afcc094",
   "metadata": {},
   "outputs": [],
   "source": [
    "df['session_start'] = pd.to_datetime(df['session_start'])\n",
    "df['session_end'] = pd.to_datetime(df['session_end'])"
   ]
  },
  {
   "cell_type": "code",
   "execution_count": 28,
   "id": "c6b58a0b",
   "metadata": {},
   "outputs": [
    {
     "name": "stdout",
     "output_type": "stream",
     "text": [
      "<class 'pandas.core.frame.DataFrame'>\n",
      "RangeIndex: 309901 entries, 0 to 309900\n",
      "Data columns (total 6 columns):\n",
      " #   Column         Non-Null Count   Dtype         \n",
      "---  ------         --------------   -----         \n",
      " 0   user_id        309901 non-null  int64         \n",
      " 1   region         309901 non-null  object        \n",
      " 2   device         309901 non-null  object        \n",
      " 3   channel        309901 non-null  object        \n",
      " 4   session_start  309901 non-null  datetime64[ns]\n",
      " 5   session_end    309901 non-null  datetime64[ns]\n",
      "dtypes: datetime64[ns](2), int64(1), object(3)\n",
      "memory usage: 14.2+ MB\n"
     ]
    }
   ],
   "source": [
    "df.info()"
   ]
  },
  {
   "cell_type": "code",
   "execution_count": null,
   "id": "e3374363",
   "metadata": {},
   "outputs": [],
   "source": []
  },
  {
   "cell_type": "code",
   "execution_count": null,
   "id": "b8bf90a0",
   "metadata": {},
   "outputs": [],
   "source": []
  },
  {
   "cell_type": "code",
   "execution_count": null,
   "id": "c97c4d9c",
   "metadata": {},
   "outputs": [],
   "source": []
  },
  {
   "cell_type": "code",
   "execution_count": null,
   "id": "c43d9345",
   "metadata": {},
   "outputs": [],
   "source": []
  }
 ],
 "metadata": {
  "kernelspec": {
   "display_name": "Python 3 (ipykernel)",
   "language": "python",
   "name": "python3"
  },
  "language_info": {
   "codemirror_mode": {
    "name": "ipython",
    "version": 3
   },
   "file_extension": ".py",
   "mimetype": "text/x-python",
   "name": "python",
   "nbconvert_exporter": "python",
   "pygments_lexer": "ipython3",
   "version": "3.9.12"
  }
 },
 "nbformat": 4,
 "nbformat_minor": 5
}
